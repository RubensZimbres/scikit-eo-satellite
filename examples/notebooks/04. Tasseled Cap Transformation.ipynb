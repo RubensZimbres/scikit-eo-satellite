{
 "cells": [
  {
   "cell_type": "markdown",
   "metadata": {},
   "source": [
    "# **_<div class=\"alert alert-success\"><font color='darkred'> Tutorials: Machine Learning</font></div>_**"
   ]
  },
  {
   "cell_type": "markdown",
   "metadata": {},
   "source": [
    "### **_<div class=\"alert alert-success\"><font color='darkblue'> @Yonatan Tarazona Coronel</font></div>_**"
   ]
  },
  {
   "cell_type": "markdown",
   "metadata": {},
   "source": [
    "## 1.0. radar and optical"
   ]
  },
  {
   "cell_type": "markdown",
   "metadata": {},
   "source": [
    "El valor es uno de los elementos fundamentales (como por ejemplo una letra o un número) que manipula un programa. Los valores que hemos visto hasta el momento son 2 (el resultado de sumar 1 + 1) y Hola, mundo.\n",
    "\n",
    "Estos valores son de distintos **tipos**: 2 es un entero y Hola, mundo es una cadena, llamada así porque contiene una \"cadena\" de letras. Usted (y el intérprete) puede identificar las cadenas porque están encerradas entre comillas.\n",
    "La sentencia print también funciona con enteros:"
   ]
  },
  {
   "cell_type": "code",
   "execution_count": null,
   "metadata": {},
   "outputs": [],
   "source": [
    "# La ruta de la imagen\n",
    "path_img = \"G:/4_RS_Python/Leccion5/Datos/232066/LC08_SUBSET_232066_20190727_STACK.tif\"\n",
    "# Luego procedemos a leerla con la funcion gdal.Open()\n",
    "img = rasterio.open(path_img)\n",
    "\n",
    "tct = tassCap(image = img, sat = 'Landsat8OLI')"
   ]
  },
  {
   "cell_type": "code",
   "execution_count": null,
   "metadata": {},
   "outputs": [],
   "source": [
    "import matplotlib.pyplot as plt\n",
    "plt.figure(figsize=(10,10))\n",
    "plt.imshow(tct[:,:,0:3]) # magma, gray, etc.\n",
    "plt.colorbar()\n",
    "plt.title(\"Spectral Mixture Analysis - LC8\") # Titulo\n",
    "plt.xlabel('Columnas X') # Nombre del eje X\n",
    "plt.ylabel('Filas Y') # Nombre del eje Y\n",
    "plt.show()"
   ]
  },
  {
   "cell_type": "code",
   "execution_count": null,
   "metadata": {},
   "outputs": [],
   "source": [
    "import writeRaster as wr\n",
    "import os\n",
    "wr.writeRaster(arr = classi.get('Classification_Map'), \n",
    "           image = classi.get('Image'),\n",
    "           filename = 'img2')"
   ]
  }
 ],
 "metadata": {
  "kernelspec": {
   "display_name": "Python 3",
   "language": "python",
   "name": "python3"
  },
  "language_info": {
   "codemirror_mode": {
    "name": "ipython",
    "version": 3
   },
   "file_extension": ".py",
   "mimetype": "text/x-python",
   "name": "python",
   "nbconvert_exporter": "python",
   "pygments_lexer": "ipython3",
   "version": "3.7.8"
  },
  "toc": {
   "base_numbering": 1,
   "nav_menu": {},
   "number_sections": false,
   "sideBar": true,
   "skip_h1_title": false,
   "title_cell": "Table of Contents",
   "title_sidebar": "Contents",
   "toc_cell": false,
   "toc_position": {},
   "toc_section_display": true,
   "toc_window_display": false
  }
 },
 "nbformat": 4,
 "nbformat_minor": 4
}
